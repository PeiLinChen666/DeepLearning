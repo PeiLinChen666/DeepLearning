{
 "cells": [
  {
   "cell_type": "code",
   "execution_count": 48,
   "metadata": {},
   "outputs": [],
   "source": [
    "#self attention realize\n",
    "import math\n",
    "import torch\n",
    "import torch.nn as nn\n",
    "import warnings as ws\n",
    "ws.filterwarnings(\"ignore\")"
   ]
  },
  {
   "cell_type": "code",
   "execution_count": 49,
   "metadata": {},
   "outputs": [],
   "source": [
    "class SelfAttV3(nn.Module):\n",
    "    def __init__(self,hidden_dim,bias = True,drop_rate=0.1,refect_matrix=False):\n",
    "        super(SelfAttV3,self).__init__()\n",
    "        self.hiddem_dim = hidden_dim\n",
    "        self.bias = bias\n",
    "        self.qkv = nn.Linear(hidden_dim,hidden_dim*3,bias=self.bias)\n",
    "        \n",
    "        self.dropout = nn.Dropout(drop_rate)\n",
    "        if refect_matrix:\n",
    "            self.outputs = nn.Linear(hidden_dim,hidden_dim)\n",
    "        else:\n",
    "            self.outputs = None\n",
    "    def forward(self,x,attention_mask=None):\n",
    "        QKV =self.qkv(x)\n",
    "        q,k,v = torch.split(QKV,self.hiddem_dim,dim=-1)\n",
    "        attention_score =q@k.transpose(-1,-2)/math.sqrt(self.hiddem_dim)\n",
    "        #在计算softmax之前对矩阵进行mask，将mask为0的元素置为负无穷，使计算softmax时，mask为0的地方权重接近0\n",
    "        if attention_mask is not None:\n",
    "            attention_score = attention_score.masked_fill(attention_mask==0,float('-inf'))\n",
    "        attention_weight = torch.softmax(attention_score,dim=-1)\n",
    "        attention_weight = self.dropout(attention_weight)\n",
    "        attention_weight = attention_weight@v\n",
    "        if self.outputs is not None:\n",
    "            outputs = self.outputs(attention_weight)\n",
    "        else:\n",
    "            outputs = attention_weight\n",
    "        return outputs"
   ]
  },
  {
   "cell_type": "code",
   "execution_count": null,
   "metadata": {},
   "outputs": [],
   "source": [
    "class SelfAttV4(nn.Module):\n",
    "    def __init__(self,hidden_dim,bias = True,drop_rate=0.1,refect_matrix=False):\n",
    "        super(SelfAttV4,self).__init__()      "
   ]
  },
  {
   "cell_type": "code",
   "execution_count": 50,
   "metadata": {},
   "outputs": [],
   "source": [
    "def repeat_test(mask):\n",
    "    print(\"maske.shape:\",mask.shape)\n",
    "    print('mask:\\n',mask)\n",
    "    after_mask = mask.unsqueeze(1)#.repeat(1,x.shape[1],1)\n",
    "    # selfatt = SelfAttV1(x.shape[-1])\n",
    "    # print(selfatt(x).shape) \n",
    "    print('repeat after:',after_mask.shape) \n",
    "    print(after_mask)     \n",
    "    after_mask2 = mask.unsqueeze(-1)#.repeat(1,1,x.shape[1])\n",
    "    print('repeat after2:',after_mask2.shape) \n",
    "    print(after_mask2)"
   ]
  },
  {
   "cell_type": "code",
   "execution_count": 51,
   "metadata": {},
   "outputs": [
    {
     "name": "stdout",
     "output_type": "stream",
     "text": [
      "maske.shape: torch.Size([3, 3])\n",
      "mask:\n",
      " tensor([[1, 1, 0],\n",
      "        [1, 1, 1],\n",
      "        [1, 1, 1]])\n",
      "model_outputs.shape：\n",
      " torch.Size([3, 3, 4])\n",
      "------------------------------\n",
      "maske.shape: torch.Size([3, 3])\n",
      "mask:\n",
      " tensor([[1, 1, 0],\n",
      "        [1, 1, 1],\n",
      "        [1, 1, 1]])\n",
      "repeat after: torch.Size([3, 1, 3])\n",
      "tensor([[[1, 1, 0]],\n",
      "\n",
      "        [[1, 1, 1]],\n",
      "\n",
      "        [[1, 1, 1]]])\n",
      "repeat after2: torch.Size([3, 3, 1])\n",
      "tensor([[[1],\n",
      "         [1],\n",
      "         [0]],\n",
      "\n",
      "        [[1],\n",
      "         [1],\n",
      "         [1]],\n",
      "\n",
      "        [[1],\n",
      "         [1],\n",
      "         [1]]])\n"
     ]
    }
   ],
   "source": [
    "\n",
    "if __name__== '__main__':\n",
    "    x = torch.randn(1,3,4)\n",
    "    mask = torch.tensor([[1,1,0],[1,1,1],[1,1,1]])\n",
    "    \n",
    "    print(\"maske.shape:\",mask.shape)\n",
    "    print('mask:\\n',mask)\n",
    "    after_mask = mask.unsqueeze(1).repeat(1,x.shape[1],1)\n",
    "    model = SelfAttV3(x.shape[-1])\n",
    " \n",
    "    model_outputs=model(x,after_mask)\n",
    "    print(\"model_outputs.shape：\\n\",model_outputs.shape)\n",
    "    print(\"-\"*30)\n",
    "    repeat_test(mask)"
   ]
  },
  {
   "cell_type": "code",
   "execution_count": null,
   "metadata": {},
   "outputs": [],
   "source": []
  }
 ],
 "metadata": {
  "kernelspec": {
   "display_name": "pytorch113",
   "language": "python",
   "name": "python3"
  },
  "language_info": {
   "codemirror_mode": {
    "name": "ipython",
    "version": 3
   },
   "file_extension": ".py",
   "mimetype": "text/x-python",
   "name": "python",
   "nbconvert_exporter": "python",
   "pygments_lexer": "ipython3",
   "version": "3.10.16"
  }
 },
 "nbformat": 4,
 "nbformat_minor": 2
}
