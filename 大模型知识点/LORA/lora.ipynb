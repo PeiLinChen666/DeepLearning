{
 "cells": [
  {
   "cell_type": "code",
   "execution_count": null,
   "metadata": {},
   "outputs": [],
   "source": [
    "import torch\n",
    "import torch.nn as nn\n",
    "import torch.nn.functional as F"
   ]
  },
  {
   "cell_type": "code",
   "execution_count": null,
   "metadata": {},
   "outputs": [],
   "source": [
    "class LinearLoRALayer(nn.Module):\n",
    "    def __init__(self, in_features,\n",
    "                out_features, \n",
    "                rank=1, \n",
    "                lora_alpha=1, \n",
    "                lora_dropout_rate=0.1,\n",
    "                merge=False)\n",
    "    self.in_features = in_features\n",
    "    self.out_features = out_features\n",
    "    self.rank = rank\n",
    "    self.lora_alpha = lora_alpha\n",
    "    self.lora_dropout = nn.Dropout(lora_dropout_rate)\n",
    "    self.merge = merge\n",
    "        \n",
    "    self.linear = nn.Linear(in_features, out_features)\n",
    "    #Linear层的计算是 ->y = xW^T + b 这里是使用的是W权重的转置所有实际上W权重矩阵是(out_features,in_features)形状的，\n",
    "    #而不是(in_features,out_features)\n",
    "    if self.rank > 0:\n",
    "        self.loar_A = nn.Parameter(torch.randn(out_features,self.rank))\n",
    "        self.lora_B = nn.Parameter(torch.randn(self.rank,out_features))\n",
    "        self.lora_scaling = self.lora_alpha / self.rank #对两个矩阵的乘积结果进行缩放，使得两个矩阵的乘积结果更加接近原始的线性层权重矩阵"
   ]
  },
  {
   "cell_type": "code",
   "execution_count": null,
   "metadata": {},
   "outputs": [],
   "source": []
  }
 ],
 "metadata": {
  "kernelspec": {
   "display_name": "pytorch113",
   "language": "python",
   "name": "python3"
  },
  "language_info": {
   "name": "python",
   "version": "3.10.16"
  }
 },
 "nbformat": 4,
 "nbformat_minor": 2
}
