{
 "cells": [
  {
   "cell_type": "code",
   "execution_count": 19,
   "metadata": {},
   "outputs": [],
   "source": [
    "#GQA的目的，为了减少缓存的访问，GQA是介于MultiHead Attention 和 MultiQuery Attention之间的一种平衡\n",
    "import torch\n",
    "import torch.nn as nn\n",
    "import torch.nn.functional as F\n",
    "import math"
   ]
  },
  {
   "cell_type": "code",
   "execution_count": 20,
   "metadata": {},
   "outputs": [],
   "source": [
    "class GroupQueryAttention(nn.Module):\n",
    "    def __init__(self,hidden_dim,num_heads,nums_key_value_head,drop_rate=0.1,bias=False,reflect_matrix=True):\n",
    "        super().__init__()\n",
    "        self.hidden_dim = hidden_dim\n",
    "        self.num_heads = num_heads # 注意力的头数量\n",
    "        self.nums_key_value_head = nums_key_value_head# key value 的头数量\n",
    "        self.drop_rate = drop_rate\n",
    "        self.heads_dim = hidden_dim//num_heads # 每个注意力的头的维度\n",
    "        self.bias = bias\n",
    "        \n",
    "        assert self.hidden_dim % self.num_heads == 0 #注意力的头数量得可以整除\n",
    "        assert self.num_heads % self.nums_key_value_head == 0 #key value的头数量得可以整除,N 个 query 为一组\n",
    "        \n",
    "        self.query = nn.Linear(hidden_dim,self.num_heads*self.heads_dim,bias=self.bias)\n",
    "        self.key = nn.Linear(hidden_dim,self.nums_key_value_head*self.heads_dim,bias=self.bias)\n",
    "        self.value = nn.Linear(hidden_dim,self.nums_key_value_head*self.heads_dim,bias=self.bias)\n",
    "        \n",
    "        self.att_dropout = nn.Dropout(self.drop_rate)\n",
    "        self.reflect_matrix=reflect_matrix\n",
    "        self.outputs = nn.Linear(hidden_dim,hidden_dim) if reflect_matrix else None\n",
    "    def forward(self,x,mask=None):\n",
    "        b,s,hidden_dim = x.size()\n",
    "        \n",
    "        # q(b,s,hidden_dim)-> (b,s,num_heads,heads_dim)-> (b,num_heads,s,heads_dim)\n",
    "        q = self.query(x).view(b,s,self.num_heads,self.heads_dim).transpose(1,2)\n",
    "        # k(b,s,hidden_dim)-> (b,s,nums_key_value_head,heads_dim)-> (b,nums_key_value_head,s,heads_dim)\n",
    "        k = self.key(x).view(b,s,self.nums_key_value_head,self.heads_dim).transpose(1,2)\n",
    "        v = self.value(x).view(b,s,self.nums_key_value_head,self.heads_dim).transpose(1,2)\n",
    "        \n",
    "        #(b,nums_key_value_head,s,heads_dim)->(b,num_heads,s,heads_dim) 为了后续能够进行矩阵乘法计算\n",
    "        k=k.repeat_interleave(self.num_heads//self.nums_key_value_head,dim=1)\n",
    "        v=v.repeat_interleave(self.num_heads//self.nums_key_value_head,dim=1)\n",
    "        #q@k.transpose(-1,-2) = (b,num_heads,s,s)\n",
    "        attention_score = q@k.transpose(-1,-2)/math.sqrt(self.heads_dim)\n",
    "        if mask is not None:\n",
    "            attention_score = attention_score.masked_fill(mask==0,float('-inf'))\n",
    "            \n",
    "        attention_weight = torch.softmax(attention_score,dim=-1)\n",
    "        attention_weight = self.att_dropout(attention_weight)\n",
    "        \n",
    "        #(b,num_heads,s,s)@(b,num_heads,s,heads_dim) = (b,num_heads,s,heads_dim)\n",
    "        attention_weight = attention_weight@v\n",
    "        \n",
    "        outputs_mid = attention_weight.transpose(1,2).contiguous()\n",
    "        outputs_mid = outputs_mid.view(b,s,-1)\n",
    "        if self.reflect_matrix:\n",
    "            result = self.outputs(outputs_mid)\n",
    "        else:\n",
    "            result = outputs_mid\n",
    "        return result\n",
    "        "
   ]
  },
  {
   "cell_type": "code",
   "execution_count": 21,
   "metadata": {},
   "outputs": [
    {
     "name": "stdout",
     "output_type": "stream",
     "text": [
      "torch.Size([3, 2, 128])\n"
     ]
    }
   ],
   "source": [
    "if __name__ == \"__main__\":\n",
    "    attention_mask = (\n",
    "        torch.tensor(\n",
    "            [\n",
    "                [0, 1],\n",
    "                [0, 0],\n",
    "                [1, 0],\n",
    "            ]\n",
    "        )\n",
    "        .unsqueeze(1)\n",
    "        .unsqueeze(2)\n",
    "        .expand(3, 8, 2, 2)\n",
    "    )\n",
    "\n",
    "    x = torch.rand(3, 2, 128)\n",
    "    net = GroupQueryAttention(hidden_dim=128, num_heads = 8,nums_key_value_head=4)\n",
    "    print(net(x, attention_mask).shape)"
   ]
  }
 ],
 "metadata": {
  "kernelspec": {
   "display_name": "pytorch113",
   "language": "python",
   "name": "python3"
  },
  "language_info": {
   "codemirror_mode": {
    "name": "ipython",
    "version": 3
   },
   "file_extension": ".py",
   "mimetype": "text/x-python",
   "name": "python",
   "nbconvert_exporter": "python",
   "pygments_lexer": "ipython3",
   "version": "3.10.16"
  }
 },
 "nbformat": 4,
 "nbformat_minor": 2
}
