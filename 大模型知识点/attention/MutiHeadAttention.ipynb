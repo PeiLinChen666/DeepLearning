{
 "cells": [
  {
   "cell_type": "code",
   "execution_count": 1,
   "metadata": {},
   "outputs": [
    {
     "name": "stderr",
     "output_type": "stream",
     "text": [
      "d:\\anaconda\\envs\\pytorch113\\lib\\site-packages\\tqdm\\auto.py:21: TqdmWarning: IProgress not found. Please update jupyter and ipywidgets. See https://ipywidgets.readthedocs.io/en/stable/user_install.html\n",
      "  from .autonotebook import tqdm as notebook_tqdm\n"
     ]
    }
   ],
   "source": [
    "import math\n",
    "import torch\n",
    "import torch.nn as nn\n"
   ]
  },
  {
   "cell_type": "code",
   "execution_count": 2,
   "metadata": {},
   "outputs": [],
   "source": [
    "class MultiHeadAttention(nn.Module):\n",
    "    def __init__(self,hidden_dim,nums_head,bias=False,drop_rate=0.1,reflect_matrix=True)->None:\n",
    "        super().__init__()\n",
    "        \n",
    "        self.hidden_dim = hidden_dim\n",
    "        self.nums_head = nums_head\n",
    "        self.head_dim  = hidden_dim//nums_head\n",
    "        self.num_heads = nums_head\n",
    "        assert self.hidden_dim % self.num_heads == 0 #注意力的头数量得可以整除\n",
    "        self.query = nn.Linear(hidden_dim,hidden_dim,bias=bias)\n",
    "        self.key = nn.Linear(hidden_dim,hidden_dim,bias=bias)\n",
    "        self.value = nn.Linear(hidden_dim,hidden_dim,bias=bias)\n",
    "        self.att_dropout = nn.Dropout(drop_rate)\n",
    "        \n",
    "        if reflect_matrix:\n",
    "            self.outputs = nn.Linear(hidden_dim,hidden_dim)\n",
    "        else:\n",
    "            self.outputs = None\n",
    "    def forward(self,x,mask=None):\n",
    "        b,s,hidden_dim = x.size()\n",
    "        q = self.query(x).view(b,s,self.nums_head,self.head_dim).transpose(1,2)\n",
    "        k = self.key(x).view(b,s,self.nums_head,self.head_dim).transpose(1,2)\n",
    "        v = self.value(x).view(b,s,self.nums_head,self.head_dim).transpose(1,2)\n",
    "        # q.size() = (b,nums_head,s,head_dim)\n",
    "        attention_score = q@k.transpose(-1,-2)/math.sqrt(self.head_dim)\n",
    "         # attention_score.size() = (b,nums_head,s,s)\n",
    "        if mask is not None:\n",
    "            attention_score = attention_score.masked_fill(mask==0,float('-inf'))\n",
    "        attention_weight = torch.softmax(attention_score,dim=-1)\n",
    "        attention_weight = self.att_dropout(attention_weight)\n",
    "        attention_weight = attention_weight@v\n",
    "        # attention_weight.size() = (b,nums_head,s,head_dim)\n",
    "        output_mid = attention_weight.transpose(1,2).contiguous()#output_mid.size() = (b,s,nums_head,head_dim)\n",
    "        output_mid = output_mid.view(b,s,-1)\n",
    "        #因为使用了多头注意力，把\n",
    "        if self.outputs is not None:\n",
    "            result = self.outputs(output_mid)\n",
    "        else:\n",
    "            result = output_mid\n",
    "        return result"
   ]
  },
  {
   "cell_type": "code",
   "execution_count": 3,
   "metadata": {},
   "outputs": [
    {
     "name": "stdout",
     "output_type": "stream",
     "text": [
      "torch.Size([3, 2, 128])\n"
     ]
    }
   ],
   "source": [
    "if __name__ == \"__main__\":\n",
    "    attention_mask = (\n",
    "        torch.tensor(\n",
    "            [\n",
    "                [0, 1],\n",
    "                [0, 0],\n",
    "                [1, 0],\n",
    "            ]\n",
    "        )\n",
    "        .unsqueeze(1)\n",
    "        .unsqueeze(2)\n",
    "        .expand(3, 8, 2, 2)\n",
    "    )\n",
    "\n",
    "    x = torch.rand(3, 2, 128)\n",
    "    net = MultiHeadAttention(128, 8)\n",
    "    print(net(x, attention_mask).shape)"
   ]
  },
  {
   "cell_type": "code",
   "execution_count": null,
   "metadata": {},
   "outputs": [],
   "source": []
  }
 ],
 "metadata": {
  "kernelspec": {
   "display_name": "pytorch113",
   "language": "python",
   "name": "python3"
  },
  "language_info": {
   "codemirror_mode": {
    "name": "ipython",
    "version": 3
   },
   "file_extension": ".py",
   "mimetype": "text/x-python",
   "name": "python",
   "nbconvert_exporter": "python",
   "pygments_lexer": "ipython3",
   "version": "3.10.16"
  }
 },
 "nbformat": 4,
 "nbformat_minor": 2
}
